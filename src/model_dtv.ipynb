{
 "cells": [
  {
   "cell_type": "markdown",
   "metadata": {},
   "source": [
    "# Define Train and Validate the models\n",
    "\n",
    "This notebook takes the normalized csv files and uses TF with kernals to build a predictor for a virtul water level sensor."
   ]
  },
  {
   "cell_type": "code",
   "execution_count": 1,
   "metadata": {},
   "outputs": [],
   "source": [
    "# leave until I can determine if tensorboard runs in ibm cloud\n",
    "# %load_ext tensorboard.notebook"
   ]
  },
  {
   "cell_type": "code",
   "execution_count": 2,
   "metadata": {},
   "outputs": [],
   "source": [
    "import datetime\n",
    "from pathlib import Path\n",
    "\n",
    "import matplotlib.pyplot as plt\n",
    "import pandas as pd\n",
    "import seaborn as sns\n",
    "import os\n",
    "import os.path\n",
    "\n",
    "\n",
    "import tensorflow as tf\n",
    "from tensorflow import keras\n",
    "from tensorflow.keras import layers"
   ]
  },
  {
   "cell_type": "code",
   "execution_count": 3,
   "metadata": {},
   "outputs": [
    {
     "name": "stdout",
     "output_type": "stream",
     "text": [
      "2.13.0\n"
     ]
    }
   ],
   "source": [
    "print(tf.__version__)"
   ]
  },
  {
   "cell_type": "code",
   "execution_count": 4,
   "metadata": {},
   "outputs": [],
   "source": [
    "# TODO: This code needs to read the normalized csv files into dataframes directly"
   ]
  },
  {
   "cell_type": "code",
   "execution_count": 5,
   "metadata": {},
   "outputs": [
    {
     "name": "stdout",
     "output_type": "stream",
     "text": [
      "current directory is : /Users/davis/progs/ccivm/src\n"
     ]
    }
   ],
   "source": [
    "# The current directory will be where this src file is located.\n",
    "# Which is in the src dir of the project\n",
    "dirpath = os.getcwd()\n",
    "print(\"current directory is : \" + dirpath)"
   ]
  },
  {
   "cell_type": "code",
   "execution_count": 6,
   "metadata": {},
   "outputs": [
    {
     "name": "stdout",
     "output_type": "stream",
     "text": [
      "parent directory is : /Users/davis/progs/ccivm\n"
     ]
    }
   ],
   "source": [
    "root_path = os.path.dirname(dirpath)\n",
    "print(\"parent directory is : \" + root_path)"
   ]
  },
  {
   "cell_type": "code",
   "execution_count": 7,
   "metadata": {},
   "outputs": [
    {
     "name": "stdout",
     "output_type": "stream",
     "text": [
      "data_path is : /Users/davis/progs/ccivm/data\n"
     ]
    }
   ],
   "source": [
    "data_path = root_path + \"/data\"\n",
    "print(\"data_path is : \" + data_path)"
   ]
  },
  {
   "cell_type": "code",
   "execution_count": 8,
   "metadata": {},
   "outputs": [
    {
     "name": "stdout",
     "output_type": "stream",
     "text": [
      "logs directory is : /Users/davis/progs/ccivm/logs\n"
     ]
    }
   ],
   "source": [
    "logs_path = os.path.join(root_path,\"logs\")\n",
    "print(\"logs directory is : \" + logs_path)"
   ]
  },
  {
   "cell_type": "code",
   "execution_count": 9,
   "metadata": {},
   "outputs": [],
   "source": [
    "LOG_DIR_NAME = logs_path\n",
    "os.environ['LOG_DIR_NAME'] = LOG_DIR_NAME"
   ]
  },
  {
   "cell_type": "code",
   "execution_count": 10,
   "metadata": {},
   "outputs": [
    {
     "name": "stdout",
     "output_type": "stream",
     "text": [
      "/Users/davis/progs/ccivm/logs\n"
     ]
    }
   ],
   "source": [
    "%%bash\n",
    "echo ${LOG_DIR_NAME}"
   ]
  },
  {
   "cell_type": "code",
   "execution_count": 12,
   "metadata": {},
   "outputs": [
    {
     "name": "stdout",
     "output_type": "stream",
     "text": [
      "usgs,site_no,date,tidal_high,tidal_low,precipitation_inches,lat,long\n",
      "GSVB,33670001,2019-03-08,-6.7913385826771648,-6.7257217847769031,,36.735303,-76.011602\n",
      "GSVB,33670001,2019-03-19,-6.8569553805774275,-6.758530183727034,,36.735303,-76.011602\n",
      "GSVB,33670001,2019-02-21,1.9356955380577427,2.1325459317585302,,36.735303,-76.011602\n",
      "GSVB,33670001,2019-03-11,-6.66010498687664,-6.4304461942257216,,36.735303,-76.011602\n",
      "GSVB,33670001,2019-04-04,1.9028871391076114,2.0669291338582676,,36.735303,-76.011602\n",
      "GSVB,33670001,2019-02-14,1.7716535433070866,1.9356955380577427,,36.735303,-76.011602\n",
      "GSVB,33670001,2019-04-14,2.2309711286089238,2.39501312335958,,36.735303,-76.011602\n",
      "GSVB,33670001,2019-02-24,2.65748031496063,2.9527559055118111,,36.735303,-76.011602\n",
      "GSVB,33670001,2019-01-12,2.2965879265091864,2.39501312335958,,36.735303,-76.011602\n"
     ]
    }
   ],
   "source": [
    "%%bash\n",
    "head ${CSV_FILE_NAME}"
   ]
  },
  {
   "cell_type": "code",
   "execution_count": 13,
   "metadata": {},
   "outputs": [
    {
     "name": "stdout",
     "output_type": "stream",
     "text": [
      "    9876 ../data/usgs_gsvb_v2.csv\n"
     ]
    }
   ],
   "source": [
    "%%bash\n",
    "# this csv file has 9875 lines corresponding to records (plus one header row)\n",
    "wc -l ${CSV_FILE_NAME}"
   ]
  },
  {
   "cell_type": "markdown",
   "metadata": {},
   "source": [
    "# Use generic python to read data into pandas dataframe"
   ]
  },
  {
   "cell_type": "markdown",
   "metadata": {},
   "source": [
    "## In order to add default values for missing data, use the converters helper functions"
   ]
  },
  {
   "cell_type": "code",
   "execution_count": 18,
   "metadata": {},
   "outputs": [],
   "source": [
    "raw_dataset = pd.read_csv(CSV_FILE_NAME, \n",
    "                          header=0,\n",
    "                          parse_dates=[2],\n",
    "                          converters={'precipitation_inches':default_precipitation, \n",
    "                                      'tidal_high':default_tidal_high,\n",
    "                                      'tidal_low': default_tidal_low},\n",
    "                          sep=\",\")\n",
    "\n",
    "dataset = raw_dataset.copy()"
   ]
  },
  {
   "cell_type": "markdown",
   "metadata": {},
   "source": [
    "## In order to add default values for missing data, use the converters helper functions"
   ]
  },
  {
   "cell_type": "code",
   "execution_count": 24,
   "metadata": {},
   "outputs": [
    {
     "data": {
      "text/html": [
       "<div>\n",
       "<style scoped>\n",
       "    .dataframe tbody tr th:only-of-type {\n",
       "        vertical-align: middle;\n",
       "    }\n",
       "\n",
       "    .dataframe tbody tr th {\n",
       "        vertical-align: top;\n",
       "    }\n",
       "\n",
       "    .dataframe thead th {\n",
       "        text-align: right;\n",
       "    }\n",
       "</style>\n",
       "<table border=\"1\" class=\"dataframe\">\n",
       "  <thead>\n",
       "    <tr style=\"text-align: right;\">\n",
       "      <th></th>\n",
       "      <th>date</th>\n",
       "      <th>tidal_high</th>\n",
       "      <th>precipitation_inches</th>\n",
       "      <th>lat</th>\n",
       "      <th>long</th>\n",
       "      <th>date_year</th>\n",
       "      <th>date_month</th>\n",
       "      <th>date_day</th>\n",
       "    </tr>\n",
       "  </thead>\n",
       "  <tbody>\n",
       "    <tr>\n",
       "      <th>0</th>\n",
       "      <td>2019-03-08</td>\n",
       "      <td>-6.791339</td>\n",
       "      <td>0.117</td>\n",
       "      <td>36.735303</td>\n",
       "      <td>-76.011602</td>\n",
       "      <td>2019</td>\n",
       "      <td>3</td>\n",
       "      <td>8</td>\n",
       "    </tr>\n",
       "    <tr>\n",
       "      <th>1</th>\n",
       "      <td>2019-03-19</td>\n",
       "      <td>-6.856955</td>\n",
       "      <td>0.117</td>\n",
       "      <td>36.735303</td>\n",
       "      <td>-76.011602</td>\n",
       "      <td>2019</td>\n",
       "      <td>3</td>\n",
       "      <td>19</td>\n",
       "    </tr>\n",
       "    <tr>\n",
       "      <th>2</th>\n",
       "      <td>2019-02-21</td>\n",
       "      <td>1.935696</td>\n",
       "      <td>0.117</td>\n",
       "      <td>36.735303</td>\n",
       "      <td>-76.011602</td>\n",
       "      <td>2019</td>\n",
       "      <td>2</td>\n",
       "      <td>21</td>\n",
       "    </tr>\n",
       "    <tr>\n",
       "      <th>3</th>\n",
       "      <td>2019-03-11</td>\n",
       "      <td>-6.660105</td>\n",
       "      <td>0.117</td>\n",
       "      <td>36.735303</td>\n",
       "      <td>-76.011602</td>\n",
       "      <td>2019</td>\n",
       "      <td>3</td>\n",
       "      <td>11</td>\n",
       "    </tr>\n",
       "    <tr>\n",
       "      <th>4</th>\n",
       "      <td>2019-04-04</td>\n",
       "      <td>1.902887</td>\n",
       "      <td>0.117</td>\n",
       "      <td>36.735303</td>\n",
       "      <td>-76.011602</td>\n",
       "      <td>2019</td>\n",
       "      <td>4</td>\n",
       "      <td>4</td>\n",
       "    </tr>\n",
       "  </tbody>\n",
       "</table>\n",
       "</div>"
      ],
      "text/plain": [
       "        date  tidal_high  precipitation_inches        lat       long  \\\n",
       "0 2019-03-08   -6.791339                 0.117  36.735303 -76.011602   \n",
       "1 2019-03-19   -6.856955                 0.117  36.735303 -76.011602   \n",
       "2 2019-02-21    1.935696                 0.117  36.735303 -76.011602   \n",
       "3 2019-03-11   -6.660105                 0.117  36.735303 -76.011602   \n",
       "4 2019-04-04    1.902887                 0.117  36.735303 -76.011602   \n",
       "\n",
       "   date_year  date_month  date_day  \n",
       "0       2019           3         8  \n",
       "1       2019           3        19  \n",
       "2       2019           2        21  \n",
       "3       2019           3        11  \n",
       "4       2019           4         4  "
      ]
     },
     "execution_count": 24,
     "metadata": {},
     "output_type": "execute_result"
    }
   ],
   "source": [
    "dataset.head()"
   ]
  },
  {
   "cell_type": "code",
   "execution_count": 26,
   "metadata": {},
   "outputs": [],
   "source": [
    "train_ds = dataset.sample(frac=0.7,random_state=3367)\n",
    "leftover_ds = dataset.drop(train_ds.index)\n",
    "test_ds = leftover_ds.sample(frac=0.5, random_state=3367)\n",
    "valid_ds = leftover_ds.drop(test_ds.index)"
   ]
  },
  {
   "cell_type": "markdown",
   "metadata": {},
   "source": [
    "# Build the model"
   ]
  },
  {
   "cell_type": "code",
   "execution_count": 32,
   "metadata": {},
   "outputs": [],
   "source": [
    "# train_ds determines the input feature size\n",
    "model = keras.Sequential([\n",
    "    layers.Dense(64, activation=tf.nn.relu, input_shape=[len(normed_train_ds.keys())]),\n",
    "    layers.Dense(64, activation=tf.nn.relu),\n",
    "    layers.Dense(1)\n",
    "    ])\n",
    "\n",
    "# orig\n",
    "#optimizer = tf.keras.optimizers.RMSprop(0.001)\n",
    "# increase learning rate if fairly consistent but slow changing\n",
    "#optimizer = tf.keras.optimizers.RMSprop(0.01)\n",
    "# 0.1 is too big\n",
    "#optimizer = tf.keras.optimizers.RMSprop(0.1)\n",
    "# with the early stop, lets try to make the learning rate smaller\n",
    "optimizer = tf.keras.optimizers.RMSprop(0.0001)\n",
    "\n",
    "# Add in the early stop code\n",
    "# The patience parameter is the amount of epochs to check for improvement\n",
    "#\n",
    "# NOTE: This was a good addition.  I'm so used to running through a lot of steps\n",
    "# I did not realize that it was finding its best results so early.  In the \n",
    "# graphs that follows, you can see the divergent graphs here where the others\n",
    "# did not show it since it was hundreds of epochs past optimal.\n",
    "early_stop = keras.callbacks.EarlyStopping(monitor='val_loss', patience=10)\n",
    "\n",
    "\n",
    "\n",
    "model.compile(loss='mean_squared_error',\n",
    "              optimizer=optimizer,\n",
    "              metrics=['mean_absolute_error', 'mean_squared_error'])\n"
   ]
  },
  {
   "cell_type": "markdown",
   "metadata": {},
   "source": [
    "# Train the model (with three callbacks)"
   ]
  },
  {
   "cell_type": "code",
   "execution_count": 33,
   "metadata": {},
   "outputs": [],
   "source": [
    "EPOCHS = 1000"
   ]
  },
  {
   "cell_type": "code",
   "execution_count": 34,
   "metadata": {},
   "outputs": [],
   "source": [
    "%%bash\n",
    "# clear any logs from previous runs\n",
    "rm -rf ${LOG_DIR_NAME}"
   ]
  },
  {
   "cell_type": "code",
   "execution_count": 35,
   "metadata": {},
   "outputs": [
    {
     "name": "stdout",
     "output_type": "stream",
     "text": [
      "/home/davis/progs/tf-hackathon/logs/20190506-181337\n"
     ]
    }
   ],
   "source": [
    "logdir = os.path.join(LOG_DIR_NAME, datetime.datetime.now().strftime(\"%Y%m%d-%H%M%S\"))\n",
    "tensorboard_callback = tf.keras.callbacks.TensorBoard(logdir, histogram_freq=1)\n",
    "print(logdir)"
   ]
  },
  {
   "cell_type": "code",
   "execution_count": 36,
   "metadata": {},
   "outputs": [],
   "source": [
    "os.environ['LOG_DIR_NAME_TIME_VARIABLE'] = logdir"
   ]
  },
  {
   "cell_type": "code",
   "execution_count": 37,
   "metadata": {},
   "outputs": [
    {
     "data": {
      "text/html": [
       "\n",
       "        <iframe\n",
       "            width=\"100%\"\n",
       "            height=\"800\"\n",
       "            src=\"http://localhost:6011\"\n",
       "            frameborder=\"0\"\n",
       "            allowfullscreen\n",
       "        ></iframe>\n",
       "        "
      ],
      "text/plain": [
       "<IPython.lib.display.IFrame at 0x7f744fed8198>"
      ]
     },
     "metadata": {},
     "output_type": "display_data"
    }
   ],
   "source": [
    "# cell magic is weird on how to evaluate this\n",
    "# this works since its hard coded but not time variable\n",
    "#%tensorboard --logdir '/home/davis/progs/tf-hackathon/logs'\n",
    "# ps auxw | grep tensorboard show this as literal --logdir logdir\n",
    "#%tensorboard --logdir logdir\n",
    "# ps auxw | grep tensorboard show this as literal --logdir $/home/davis/....\n",
    "#%tensorboard --logdir ${LOG_DIR_NAME}\n",
    "# ps auxw | grep tensorboard show this as literal --logdir /home/davis/...\n",
    "# this works because it finds tf events in root down\n",
    "#%tensorboard --logdir {LOG_DIR_NAME}\n",
    "# this does not work.  ps auxw shows tensorboard --logdir {LOG_DIR_NAME_TIME_VARIABLE}\n",
    "#%tensorboard --logdir {LOG_DIR_NAME_TIME_VARIABLE}\n",
    "# this works best. it shows up in tensorboard with time variable. tensorboard --logdir /home/davis/progs/tf-hackathon/logs/20190506-115136\n",
    "%tensorboard --logdir {logdir}"
   ]
  },
  {
   "cell_type": "markdown",
   "metadata": {},
   "source": [
    "Wait a bit until the above pane shows the blank tensorboard page before running the cell below"
   ]
  },
  {
   "cell_type": "code",
   "execution_count": 38,
   "metadata": {},
   "outputs": [],
   "source": [
    "# Display training progress by printing a single dot for each completed epoch\n",
    "class PrintDot(keras.callbacks.Callback):\n",
    "  def on_epoch_end(self, epoch, logs):\n",
    "    if epoch % 100 == 0: print('')\n",
    "    print('.', end='')"
   ]
  },
  {
   "cell_type": "code",
   "execution_count": 39,
   "metadata": {},
   "outputs": [
    {
     "name": "stdout",
     "output_type": "stream",
     "text": [
      "\n",
      "....................................................................................................\n",
      "....................................................................................................\n",
      "............"
     ]
    }
   ],
   "source": [
    "#                    batch_size=16,\n",
    "\n",
    "history = model.fit(normed_train_ds, \n",
    "                    train_labels,\n",
    "                    epochs=EPOCHS,\n",
    "                    validation_data = (normed_valid_ds, valid_labels),\n",
    "                    verbose=0,\n",
    "                    callbacks=[early_stop, tensorboard_callback, PrintDot()])"
   ]
  },
  {
   "cell_type": "code",
   "execution_count": 48,
   "metadata": {},
   "outputs": [
    {
     "data": {
      "image/png": "[encoded data removed]",
      "text/plain": [
       "<Figure size 432x288 with 1 Axes>"
      ]
     },
     "metadata": {
      "needs_background": "light"
     },
     "output_type": "display_data"
    },
    {
     "data": {
      "image/png": "[encoded data removed]",
      "text/plain": [
       "<Figure size 432x288 with 1 Axes>"
      ]
     },
     "metadata": {
      "needs_background": "light"
     },
     "output_type": "display_data"
    },
    {
     "data": {
      "image/png": "[encoded data removed]",
      "text/plain": [
       "<Figure size 432x288 with 1 Axes>"
      ]
     },
     "metadata": {
      "needs_background": "light"
     },
     "output_type": "display_data"
    }
   ],
   "source": [
    "def plot_history(history):\n",
    "    hist = pd.DataFrame(history.history)\n",
    "    hist['epoch'] = history.epoch\n",
    "\n",
    "\n",
    "    plt.figure()\n",
    "    plt.xlabel('Epoch')\n",
    "    plt.ylabel('Epoch Loss [Tidal_high]')\n",
    "    plt.plot(hist['epoch'], hist['loss'],label='Train Loss')\n",
    "    plt.plot(hist['epoch'], hist['val_loss'],label = 'Val Loss')\n",
    "    plt.ylim([0,3])\n",
    "    plt.legend()\n",
    "\n",
    "\n",
    "    plt.figure()\n",
    "    plt.xlabel('Epoch')\n",
    "    plt.ylabel('Mean Abs Error [Tidal_high]')\n",
    "    plt.plot(hist['epoch'], hist['mean_absolute_error'],label='Train Error')\n",
    "    plt.plot(hist['epoch'], hist['val_mean_absolute_error'],label = 'Val Error')\n",
    "    plt.ylim([0,1])\n",
    "    plt.legend()\n",
    "\n",
    "    plt.figure()\n",
    "    plt.xlabel('Epoch')\n",
    "    plt.ylabel('Mean Square Error [$Tidal_high^2$]')\n",
    "    plt.plot(hist['epoch'], hist['mean_squared_error'],label='Train Error')\n",
    "    plt.plot(hist['epoch'], hist['val_mean_squared_error'],label = 'Val Error')\n",
    "    plt.ylim([0,3])\n",
    "    plt.legend()\n",
    "    plt.show()\n",
    "\n",
    "\n",
    "plot_history(history)"
   ]
  },
  {
   "cell_type": "code",
   "execution_count": 49,
   "metadata": {},
   "outputs": [],
   "source": [
    "hist = pd.DataFrame(history.history)\n",
    "hist['epoch'] = history.epoch"
   ]
  },
  {
   "cell_type": "code",
   "execution_count": 50,
   "metadata": {},
   "outputs": [
    {
     "data": {
      "text/html": [
       "<div>\n",
       "<style scoped>\n",
       "    .dataframe tbody tr th:only-of-type {\n",
       "        vertical-align: middle;\n",
       "    }\n",
       "\n",
       "    .dataframe tbody tr th {\n",
       "        vertical-align: top;\n",
       "    }\n",
       "\n",
       "    .dataframe thead th {\n",
       "        text-align: right;\n",
       "    }\n",
       "</style>\n",
       "<table border=\"1\" class=\"dataframe\">\n",
       "  <thead>\n",
       "    <tr style=\"text-align: right;\">\n",
       "      <th></th>\n",
       "      <th>loss</th>\n",
       "      <th>mean_absolute_error</th>\n",
       "      <th>mean_squared_error</th>\n",
       "      <th>val_loss</th>\n",
       "      <th>val_mean_absolute_error</th>\n",
       "      <th>val_mean_squared_error</th>\n",
       "      <th>epoch</th>\n",
       "    </tr>\n",
       "  </thead>\n",
       "  <tbody>\n",
       "    <tr>\n",
       "      <th>0</th>\n",
       "      <td>3.543652</td>\n",
       "      <td>1.262222</td>\n",
       "      <td>3.543653</td>\n",
       "      <td>2.773993</td>\n",
       "      <td>0.959025</td>\n",
       "      <td>2.773993</td>\n",
       "      <td>0</td>\n",
       "    </tr>\n",
       "    <tr>\n",
       "      <th>1</th>\n",
       "      <td>2.565893</td>\n",
       "      <td>0.872426</td>\n",
       "      <td>2.565893</td>\n",
       "      <td>2.520181</td>\n",
       "      <td>0.855623</td>\n",
       "      <td>2.520181</td>\n",
       "      <td>1</td>\n",
       "    </tr>\n",
       "    <tr>\n",
       "      <th>2</th>\n",
       "      <td>2.413383</td>\n",
       "      <td>0.826554</td>\n",
       "      <td>2.413383</td>\n",
       "      <td>2.430734</td>\n",
       "      <td>0.830454</td>\n",
       "      <td>2.430735</td>\n",
       "      <td>2</td>\n",
       "    </tr>\n",
       "    <tr>\n",
       "      <th>3</th>\n",
       "      <td>2.330078</td>\n",
       "      <td>0.806224</td>\n",
       "      <td>2.330078</td>\n",
       "      <td>2.365609</td>\n",
       "      <td>0.818543</td>\n",
       "      <td>2.365609</td>\n",
       "      <td>3</td>\n",
       "    </tr>\n",
       "    <tr>\n",
       "      <th>4</th>\n",
       "      <td>2.273433</td>\n",
       "      <td>0.794730</td>\n",
       "      <td>2.273433</td>\n",
       "      <td>2.321889</td>\n",
       "      <td>0.813909</td>\n",
       "      <td>2.321889</td>\n",
       "      <td>4</td>\n",
       "    </tr>\n",
       "    <tr>\n",
       "      <th>5</th>\n",
       "      <td>2.231273</td>\n",
       "      <td>0.789889</td>\n",
       "      <td>2.231274</td>\n",
       "      <td>2.289749</td>\n",
       "      <td>0.805260</td>\n",
       "      <td>2.289749</td>\n",
       "      <td>5</td>\n",
       "    </tr>\n",
       "    <tr>\n",
       "      <th>6</th>\n",
       "      <td>2.197396</td>\n",
       "      <td>0.782518</td>\n",
       "      <td>2.197397</td>\n",
       "      <td>2.259538</td>\n",
       "      <td>0.797164</td>\n",
       "      <td>2.259538</td>\n",
       "      <td>6</td>\n",
       "    </tr>\n",
       "    <tr>\n",
       "      <th>7</th>\n",
       "      <td>2.169190</td>\n",
       "      <td>0.775931</td>\n",
       "      <td>2.169190</td>\n",
       "      <td>2.229079</td>\n",
       "      <td>0.793783</td>\n",
       "      <td>2.229079</td>\n",
       "      <td>7</td>\n",
       "    </tr>\n",
       "    <tr>\n",
       "      <th>8</th>\n",
       "      <td>2.142666</td>\n",
       "      <td>0.774503</td>\n",
       "      <td>2.142665</td>\n",
       "      <td>2.209147</td>\n",
       "      <td>0.787204</td>\n",
       "      <td>2.209146</td>\n",
       "      <td>8</td>\n",
       "    </tr>\n",
       "    <tr>\n",
       "      <th>9</th>\n",
       "      <td>2.119494</td>\n",
       "      <td>0.769826</td>\n",
       "      <td>2.119494</td>\n",
       "      <td>2.189762</td>\n",
       "      <td>0.779339</td>\n",
       "      <td>2.189762</td>\n",
       "      <td>9</td>\n",
       "    </tr>\n",
       "    <tr>\n",
       "      <th>10</th>\n",
       "      <td>2.100165</td>\n",
       "      <td>0.762365</td>\n",
       "      <td>2.100165</td>\n",
       "      <td>2.164921</td>\n",
       "      <td>0.780831</td>\n",
       "      <td>2.164921</td>\n",
       "      <td>10</td>\n",
       "    </tr>\n",
       "    <tr>\n",
       "      <th>11</th>\n",
       "      <td>2.079964</td>\n",
       "      <td>0.760920</td>\n",
       "      <td>2.079964</td>\n",
       "      <td>2.146081</td>\n",
       "      <td>0.775138</td>\n",
       "      <td>2.146081</td>\n",
       "      <td>11</td>\n",
       "    </tr>\n",
       "    <tr>\n",
       "      <th>12</th>\n",
       "      <td>2.061738</td>\n",
       "      <td>0.759126</td>\n",
       "      <td>2.061738</td>\n",
       "      <td>2.129529</td>\n",
       "      <td>0.769132</td>\n",
       "      <td>2.129529</td>\n",
       "      <td>12</td>\n",
       "    </tr>\n",
       "    <tr>\n",
       "      <th>13</th>\n",
       "      <td>2.045827</td>\n",
       "      <td>0.754149</td>\n",
       "      <td>2.045826</td>\n",
       "      <td>2.114497</td>\n",
       "      <td>0.764727</td>\n",
       "      <td>2.114497</td>\n",
       "      <td>13</td>\n",
       "    </tr>\n",
       "    <tr>\n",
       "      <th>14</th>\n",
       "      <td>2.031320</td>\n",
       "      <td>0.749775</td>\n",
       "      <td>2.031320</td>\n",
       "      <td>2.097677</td>\n",
       "      <td>0.760876</td>\n",
       "      <td>2.097677</td>\n",
       "      <td>14</td>\n",
       "    </tr>\n",
       "    <tr>\n",
       "      <th>15</th>\n",
       "      <td>2.015176</td>\n",
       "      <td>0.748061</td>\n",
       "      <td>2.015176</td>\n",
       "      <td>2.084351</td>\n",
       "      <td>0.757260</td>\n",
       "      <td>2.084351</td>\n",
       "      <td>15</td>\n",
       "    </tr>\n",
       "    <tr>\n",
       "      <th>16</th>\n",
       "      <td>2.001448</td>\n",
       "      <td>0.742044</td>\n",
       "      <td>2.001448</td>\n",
       "      <td>2.069925</td>\n",
       "      <td>0.753677</td>\n",
       "      <td>2.069925</td>\n",
       "      <td>16</td>\n",
       "    </tr>\n",
       "    <tr>\n",
       "      <th>17</th>\n",
       "      <td>1.986574</td>\n",
       "      <td>0.742242</td>\n",
       "      <td>1.986573</td>\n",
       "      <td>2.059923</td>\n",
       "      <td>0.749704</td>\n",
       "      <td>2.059923</td>\n",
       "      <td>17</td>\n",
       "    </tr>\n",
       "    <tr>\n",
       "      <th>18</th>\n",
       "      <td>1.976822</td>\n",
       "      <td>0.734317</td>\n",
       "      <td>1.976822</td>\n",
       "      <td>2.045338</td>\n",
       "      <td>0.748352</td>\n",
       "      <td>2.045338</td>\n",
       "      <td>18</td>\n",
       "    </tr>\n",
       "    <tr>\n",
       "      <th>19</th>\n",
       "      <td>1.962816</td>\n",
       "      <td>0.734293</td>\n",
       "      <td>1.962816</td>\n",
       "      <td>2.034446</td>\n",
       "      <td>0.743132</td>\n",
       "      <td>2.034446</td>\n",
       "      <td>19</td>\n",
       "    </tr>\n",
       "    <tr>\n",
       "      <th>20</th>\n",
       "      <td>1.949750</td>\n",
       "      <td>0.732196</td>\n",
       "      <td>1.949750</td>\n",
       "      <td>2.017527</td>\n",
       "      <td>0.741841</td>\n",
       "      <td>2.017527</td>\n",
       "      <td>20</td>\n",
       "    </tr>\n",
       "    <tr>\n",
       "      <th>21</th>\n",
       "      <td>1.937437</td>\n",
       "      <td>0.730514</td>\n",
       "      <td>1.937438</td>\n",
       "      <td>2.011389</td>\n",
       "      <td>0.738834</td>\n",
       "      <td>2.011389</td>\n",
       "      <td>21</td>\n",
       "    </tr>\n",
       "    <tr>\n",
       "      <th>22</th>\n",
       "      <td>1.928155</td>\n",
       "      <td>0.727699</td>\n",
       "      <td>1.928155</td>\n",
       "      <td>2.001695</td>\n",
       "      <td>0.734518</td>\n",
       "      <td>2.001696</td>\n",
       "      <td>22</td>\n",
       "    </tr>\n",
       "    <tr>\n",
       "      <th>23</th>\n",
       "      <td>1.918868</td>\n",
       "      <td>0.724225</td>\n",
       "      <td>1.918868</td>\n",
       "      <td>1.990258</td>\n",
       "      <td>0.733257</td>\n",
       "      <td>1.990258</td>\n",
       "      <td>23</td>\n",
       "    </tr>\n",
       "    <tr>\n",
       "      <th>24</th>\n",
       "      <td>1.908503</td>\n",
       "      <td>0.722156</td>\n",
       "      <td>1.908504</td>\n",
       "      <td>1.978904</td>\n",
       "      <td>0.732194</td>\n",
       "      <td>1.978904</td>\n",
       "      <td>24</td>\n",
       "    </tr>\n",
       "    <tr>\n",
       "      <th>25</th>\n",
       "      <td>1.898373</td>\n",
       "      <td>0.721333</td>\n",
       "      <td>1.898373</td>\n",
       "      <td>1.967254</td>\n",
       "      <td>0.730128</td>\n",
       "      <td>1.967254</td>\n",
       "      <td>25</td>\n",
       "    </tr>\n",
       "    <tr>\n",
       "      <th>26</th>\n",
       "      <td>1.889993</td>\n",
       "      <td>0.717914</td>\n",
       "      <td>1.889994</td>\n",
       "      <td>1.955644</td>\n",
       "      <td>0.728145</td>\n",
       "      <td>1.955644</td>\n",
       "      <td>26</td>\n",
       "    </tr>\n",
       "    <tr>\n",
       "      <th>27</th>\n",
       "      <td>1.879355</td>\n",
       "      <td>0.717649</td>\n",
       "      <td>1.879356</td>\n",
       "      <td>1.949091</td>\n",
       "      <td>0.726560</td>\n",
       "      <td>1.949091</td>\n",
       "      <td>27</td>\n",
       "    </tr>\n",
       "    <tr>\n",
       "      <th>28</th>\n",
       "      <td>1.870743</td>\n",
       "      <td>0.716983</td>\n",
       "      <td>1.870744</td>\n",
       "      <td>1.941779</td>\n",
       "      <td>0.722373</td>\n",
       "      <td>1.941779</td>\n",
       "      <td>28</td>\n",
       "    </tr>\n",
       "    <tr>\n",
       "      <th>29</th>\n",
       "      <td>1.865178</td>\n",
       "      <td>0.710980</td>\n",
       "      <td>1.865178</td>\n",
       "      <td>1.932660</td>\n",
       "      <td>0.722507</td>\n",
       "      <td>1.932660</td>\n",
       "      <td>29</td>\n",
       "    </tr>\n",
       "    <tr>\n",
       "      <th>...</th>\n",
       "      <td>...</td>\n",
       "      <td>...</td>\n",
       "      <td>...</td>\n",
       "      <td>...</td>\n",
       "      <td>...</td>\n",
       "      <td>...</td>\n",
       "      <td>...</td>\n",
       "    </tr>\n",
       "    <tr>\n",
       "      <th>182</th>\n",
       "      <td>1.437931</td>\n",
       "      <td>0.630299</td>\n",
       "      <td>1.437931</td>\n",
       "      <td>1.581672</td>\n",
       "      <td>0.638207</td>\n",
       "      <td>1.581673</td>\n",
       "      <td>182</td>\n",
       "    </tr>\n",
       "    <tr>\n",
       "      <th>183</th>\n",
       "      <td>1.434575</td>\n",
       "      <td>0.631203</td>\n",
       "      <td>1.434574</td>\n",
       "      <td>1.577779</td>\n",
       "      <td>0.636802</td>\n",
       "      <td>1.577779</td>\n",
       "      <td>183</td>\n",
       "    </tr>\n",
       "    <tr>\n",
       "      <th>184</th>\n",
       "      <td>1.434748</td>\n",
       "      <td>0.627762</td>\n",
       "      <td>1.434748</td>\n",
       "      <td>1.576483</td>\n",
       "      <td>0.639540</td>\n",
       "      <td>1.576483</td>\n",
       "      <td>184</td>\n",
       "    </tr>\n",
       "    <tr>\n",
       "      <th>185</th>\n",
       "      <td>1.434022</td>\n",
       "      <td>0.627436</td>\n",
       "      <td>1.434022</td>\n",
       "      <td>1.569351</td>\n",
       "      <td>0.638045</td>\n",
       "      <td>1.569351</td>\n",
       "      <td>185</td>\n",
       "    </tr>\n",
       "    <tr>\n",
       "      <th>186</th>\n",
       "      <td>1.430635</td>\n",
       "      <td>0.629168</td>\n",
       "      <td>1.430635</td>\n",
       "      <td>1.572304</td>\n",
       "      <td>0.636755</td>\n",
       "      <td>1.572304</td>\n",
       "      <td>186</td>\n",
       "    </tr>\n",
       "    <tr>\n",
       "      <th>187</th>\n",
       "      <td>1.429368</td>\n",
       "      <td>0.628427</td>\n",
       "      <td>1.429368</td>\n",
       "      <td>1.580855</td>\n",
       "      <td>0.636197</td>\n",
       "      <td>1.580855</td>\n",
       "      <td>187</td>\n",
       "    </tr>\n",
       "    <tr>\n",
       "      <th>188</th>\n",
       "      <td>1.433196</td>\n",
       "      <td>0.625904</td>\n",
       "      <td>1.433196</td>\n",
       "      <td>1.565329</td>\n",
       "      <td>0.634793</td>\n",
       "      <td>1.565329</td>\n",
       "      <td>188</td>\n",
       "    </tr>\n",
       "    <tr>\n",
       "      <th>189</th>\n",
       "      <td>1.428552</td>\n",
       "      <td>0.627170</td>\n",
       "      <td>1.428552</td>\n",
       "      <td>1.573247</td>\n",
       "      <td>0.634316</td>\n",
       "      <td>1.573247</td>\n",
       "      <td>189</td>\n",
       "    </tr>\n",
       "    <tr>\n",
       "      <th>190</th>\n",
       "      <td>1.430170</td>\n",
       "      <td>0.625556</td>\n",
       "      <td>1.430170</td>\n",
       "      <td>1.571151</td>\n",
       "      <td>0.636157</td>\n",
       "      <td>1.571151</td>\n",
       "      <td>190</td>\n",
       "    </tr>\n",
       "    <tr>\n",
       "      <th>191</th>\n",
       "      <td>1.426697</td>\n",
       "      <td>0.625181</td>\n",
       "      <td>1.426697</td>\n",
       "      <td>1.570591</td>\n",
       "      <td>0.639801</td>\n",
       "      <td>1.570591</td>\n",
       "      <td>191</td>\n",
       "    </tr>\n",
       "    <tr>\n",
       "      <th>192</th>\n",
       "      <td>1.427139</td>\n",
       "      <td>0.626156</td>\n",
       "      <td>1.427139</td>\n",
       "      <td>1.560840</td>\n",
       "      <td>0.635348</td>\n",
       "      <td>1.560840</td>\n",
       "      <td>192</td>\n",
       "    </tr>\n",
       "    <tr>\n",
       "      <th>193</th>\n",
       "      <td>1.425663</td>\n",
       "      <td>0.626262</td>\n",
       "      <td>1.425663</td>\n",
       "      <td>1.564198</td>\n",
       "      <td>0.635511</td>\n",
       "      <td>1.564198</td>\n",
       "      <td>193</td>\n",
       "    </tr>\n",
       "    <tr>\n",
       "      <th>194</th>\n",
       "      <td>1.424635</td>\n",
       "      <td>0.625502</td>\n",
       "      <td>1.424635</td>\n",
       "      <td>1.565912</td>\n",
       "      <td>0.632606</td>\n",
       "      <td>1.565912</td>\n",
       "      <td>194</td>\n",
       "    </tr>\n",
       "    <tr>\n",
       "      <th>195</th>\n",
       "      <td>1.420145</td>\n",
       "      <td>0.625114</td>\n",
       "      <td>1.420146</td>\n",
       "      <td>1.570389</td>\n",
       "      <td>0.631301</td>\n",
       "      <td>1.570389</td>\n",
       "      <td>195</td>\n",
       "    </tr>\n",
       "    <tr>\n",
       "      <th>196</th>\n",
       "      <td>1.423307</td>\n",
       "      <td>0.623638</td>\n",
       "      <td>1.423307</td>\n",
       "      <td>1.555424</td>\n",
       "      <td>0.637733</td>\n",
       "      <td>1.555424</td>\n",
       "      <td>196</td>\n",
       "    </tr>\n",
       "    <tr>\n",
       "      <th>197</th>\n",
       "      <td>1.422826</td>\n",
       "      <td>0.624395</td>\n",
       "      <td>1.422825</td>\n",
       "      <td>1.555094</td>\n",
       "      <td>0.635495</td>\n",
       "      <td>1.555093</td>\n",
       "      <td>197</td>\n",
       "    </tr>\n",
       "    <tr>\n",
       "      <th>198</th>\n",
       "      <td>1.419164</td>\n",
       "      <td>0.624029</td>\n",
       "      <td>1.419164</td>\n",
       "      <td>1.556294</td>\n",
       "      <td>0.638176</td>\n",
       "      <td>1.556294</td>\n",
       "      <td>198</td>\n",
       "    </tr>\n",
       "    <tr>\n",
       "      <th>199</th>\n",
       "      <td>1.417737</td>\n",
       "      <td>0.624504</td>\n",
       "      <td>1.417737</td>\n",
       "      <td>1.557045</td>\n",
       "      <td>0.634364</td>\n",
       "      <td>1.557045</td>\n",
       "      <td>199</td>\n",
       "    </tr>\n",
       "    <tr>\n",
       "      <th>200</th>\n",
       "      <td>1.417689</td>\n",
       "      <td>0.622613</td>\n",
       "      <td>1.417689</td>\n",
       "      <td>1.560934</td>\n",
       "      <td>0.633473</td>\n",
       "      <td>1.560934</td>\n",
       "      <td>200</td>\n",
       "    </tr>\n",
       "    <tr>\n",
       "      <th>201</th>\n",
       "      <td>1.415698</td>\n",
       "      <td>0.620736</td>\n",
       "      <td>1.415698</td>\n",
       "      <td>1.552014</td>\n",
       "      <td>0.635715</td>\n",
       "      <td>1.552014</td>\n",
       "      <td>201</td>\n",
       "    </tr>\n",
       "    <tr>\n",
       "      <th>202</th>\n",
       "      <td>1.412603</td>\n",
       "      <td>0.623597</td>\n",
       "      <td>1.412603</td>\n",
       "      <td>1.554249</td>\n",
       "      <td>0.632584</td>\n",
       "      <td>1.554250</td>\n",
       "      <td>202</td>\n",
       "    </tr>\n",
       "    <tr>\n",
       "      <th>203</th>\n",
       "      <td>1.413476</td>\n",
       "      <td>0.622877</td>\n",
       "      <td>1.413476</td>\n",
       "      <td>1.560313</td>\n",
       "      <td>0.632401</td>\n",
       "      <td>1.560313</td>\n",
       "      <td>203</td>\n",
       "    </tr>\n",
       "    <tr>\n",
       "      <th>204</th>\n",
       "      <td>1.412295</td>\n",
       "      <td>0.621158</td>\n",
       "      <td>1.412295</td>\n",
       "      <td>1.555999</td>\n",
       "      <td>0.633139</td>\n",
       "      <td>1.556000</td>\n",
       "      <td>204</td>\n",
       "    </tr>\n",
       "    <tr>\n",
       "      <th>205</th>\n",
       "      <td>1.410025</td>\n",
       "      <td>0.620569</td>\n",
       "      <td>1.410026</td>\n",
       "      <td>1.560209</td>\n",
       "      <td>0.630754</td>\n",
       "      <td>1.560209</td>\n",
       "      <td>205</td>\n",
       "    </tr>\n",
       "    <tr>\n",
       "      <th>206</th>\n",
       "      <td>1.407029</td>\n",
       "      <td>0.621576</td>\n",
       "      <td>1.407029</td>\n",
       "      <td>1.577233</td>\n",
       "      <td>0.631948</td>\n",
       "      <td>1.577233</td>\n",
       "      <td>206</td>\n",
       "    </tr>\n",
       "    <tr>\n",
       "      <th>207</th>\n",
       "      <td>1.411445</td>\n",
       "      <td>0.619899</td>\n",
       "      <td>1.411444</td>\n",
       "      <td>1.553422</td>\n",
       "      <td>0.633328</td>\n",
       "      <td>1.553422</td>\n",
       "      <td>207</td>\n",
       "    </tr>\n",
       "    <tr>\n",
       "      <th>208</th>\n",
       "      <td>1.408470</td>\n",
       "      <td>0.620938</td>\n",
       "      <td>1.408469</td>\n",
       "      <td>1.560792</td>\n",
       "      <td>0.629242</td>\n",
       "      <td>1.560792</td>\n",
       "      <td>208</td>\n",
       "    </tr>\n",
       "    <tr>\n",
       "      <th>209</th>\n",
       "      <td>1.406803</td>\n",
       "      <td>0.619311</td>\n",
       "      <td>1.406803</td>\n",
       "      <td>1.553820</td>\n",
       "      <td>0.633136</td>\n",
       "      <td>1.553820</td>\n",
       "      <td>209</td>\n",
       "    </tr>\n",
       "    <tr>\n",
       "      <th>210</th>\n",
       "      <td>1.404369</td>\n",
       "      <td>0.619494</td>\n",
       "      <td>1.404369</td>\n",
       "      <td>1.555452</td>\n",
       "      <td>0.635269</td>\n",
       "      <td>1.555452</td>\n",
       "      <td>210</td>\n",
       "    </tr>\n",
       "    <tr>\n",
       "      <th>211</th>\n",
       "      <td>1.401629</td>\n",
       "      <td>0.620472</td>\n",
       "      <td>1.401629</td>\n",
       "      <td>1.559012</td>\n",
       "      <td>0.628806</td>\n",
       "      <td>1.559012</td>\n",
       "      <td>211</td>\n",
       "    </tr>\n",
       "  </tbody>\n",
       "</table>\n",
       "<p>212 rows × 7 columns</p>\n",
       "</div>"
      ],
      "text/plain": [
       "         loss  mean_absolute_error  mean_squared_error  val_loss  \\\n",
       "0    3.543652             1.262222            3.543653  2.773993   \n",
       "1    2.565893             0.872426            2.565893  2.520181   \n",
       "2    2.413383             0.826554            2.413383  2.430734   \n",
       "3    2.330078             0.806224            2.330078  2.365609   \n",
       "4    2.273433             0.794730            2.273433  2.321889   \n",
       "5    2.231273             0.789889            2.231274  2.289749   \n",
       "6    2.197396             0.782518            2.197397  2.259538   \n",
       "7    2.169190             0.775931            2.169190  2.229079   \n",
       "8    2.142666             0.774503            2.142665  2.209147   \n",
       "9    2.119494             0.769826            2.119494  2.189762   \n",
       "10   2.100165             0.762365            2.100165  2.164921   \n",
       "11   2.079964             0.760920            2.079964  2.146081   \n",
       "12   2.061738             0.759126            2.061738  2.129529   \n",
       "13   2.045827             0.754149            2.045826  2.114497   \n",
       "14   2.031320             0.749775            2.031320  2.097677   \n",
       "15   2.015176             0.748061            2.015176  2.084351   \n",
       "16   2.001448             0.742044            2.001448  2.069925   \n",
       "17   1.986574             0.742242            1.986573  2.059923   \n",
       "18   1.976822             0.734317            1.976822  2.045338   \n",
       "19   1.962816             0.734293            1.962816  2.034446   \n",
       "20   1.949750             0.732196            1.949750  2.017527   \n",
       "21   1.937437             0.730514            1.937438  2.011389   \n",
       "22   1.928155             0.727699            1.928155  2.001695   \n",
       "23   1.918868             0.724225            1.918868  1.990258   \n",
       "24   1.908503             0.722156            1.908504  1.978904   \n",
       "25   1.898373             0.721333            1.898373  1.967254   \n",
       "26   1.889993             0.717914            1.889994  1.955644   \n",
       "27   1.879355             0.717649            1.879356  1.949091   \n",
       "28   1.870743             0.716983            1.870744  1.941779   \n",
       "29   1.865178             0.710980            1.865178  1.932660   \n",
       "..        ...                  ...                 ...       ...   \n",
       "182  1.437931             0.630299            1.437931  1.581672   \n",
       "183  1.434575             0.631203            1.434574  1.577779   \n",
       "184  1.434748             0.627762            1.434748  1.576483   \n",
       "185  1.434022             0.627436            1.434022  1.569351   \n",
       "186  1.430635             0.629168            1.430635  1.572304   \n",
       "187  1.429368             0.628427            1.429368  1.580855   \n",
       "188  1.433196             0.625904            1.433196  1.565329   \n",
       "189  1.428552             0.627170            1.428552  1.573247   \n",
       "190  1.430170             0.625556            1.430170  1.571151   \n",
       "191  1.426697             0.625181            1.426697  1.570591   \n",
       "192  1.427139             0.626156            1.427139  1.560840   \n",
       "193  1.425663             0.626262            1.425663  1.564198   \n",
       "194  1.424635             0.625502            1.424635  1.565912   \n",
       "195  1.420145             0.625114            1.420146  1.570389   \n",
       "196  1.423307             0.623638            1.423307  1.555424   \n",
       "197  1.422826             0.624395            1.422825  1.555094   \n",
       "198  1.419164             0.624029            1.419164  1.556294   \n",
       "199  1.417737             0.624504            1.417737  1.557045   \n",
       "200  1.417689             0.622613            1.417689  1.560934   \n",
       "201  1.415698             0.620736            1.415698  1.552014   \n",
       "202  1.412603             0.623597            1.412603  1.554249   \n",
       "203  1.413476             0.622877            1.413476  1.560313   \n",
       "204  1.412295             0.621158            1.412295  1.555999   \n",
       "205  1.410025             0.620569            1.410026  1.560209   \n",
       "206  1.407029             0.621576            1.407029  1.577233   \n",
       "207  1.411445             0.619899            1.411444  1.553422   \n",
       "208  1.408470             0.620938            1.408469  1.560792   \n",
       "209  1.406803             0.619311            1.406803  1.553820   \n",
       "210  1.404369             0.619494            1.404369  1.555452   \n",
       "211  1.401629             0.620472            1.401629  1.559012   \n",
       "\n",
       "     val_mean_absolute_error  val_mean_squared_error  epoch  \n",
       "0                   0.959025                2.773993      0  \n",
       "1                   0.855623                2.520181      1  \n",
       "2                   0.830454                2.430735      2  \n",
       "3                   0.818543                2.365609      3  \n",
       "4                   0.813909                2.321889      4  \n",
       "5                   0.805260                2.289749      5  \n",
       "6                   0.797164                2.259538      6  \n",
       "7                   0.793783                2.229079      7  \n",
       "8                   0.787204                2.209146      8  \n",
       "9                   0.779339                2.189762      9  \n",
       "10                  0.780831                2.164921     10  \n",
       "11                  0.775138                2.146081     11  \n",
       "12                  0.769132                2.129529     12  \n",
       "13                  0.764727                2.114497     13  \n",
       "14                  0.760876                2.097677     14  \n",
       "15                  0.757260                2.084351     15  \n",
       "16                  0.753677                2.069925     16  \n",
       "17                  0.749704                2.059923     17  \n",
       "18                  0.748352                2.045338     18  \n",
       "19                  0.743132                2.034446     19  \n",
       "20                  0.741841                2.017527     20  \n",
       "21                  0.738834                2.011389     21  \n",
       "22                  0.734518                2.001696     22  \n",
       "23                  0.733257                1.990258     23  \n",
       "24                  0.732194                1.978904     24  \n",
       "25                  0.730128                1.967254     25  \n",
       "26                  0.728145                1.955644     26  \n",
       "27                  0.726560                1.949091     27  \n",
       "28                  0.722373                1.941779     28  \n",
       "29                  0.722507                1.932660     29  \n",
       "..                       ...                     ...    ...  \n",
       "182                 0.638207                1.581673    182  \n",
       "183                 0.636802                1.577779    183  \n",
       "184                 0.639540                1.576483    184  \n",
       "185                 0.638045                1.569351    185  \n",
       "186                 0.636755                1.572304    186  \n",
       "187                 0.636197                1.580855    187  \n",
       "188                 0.634793                1.565329    188  \n",
       "189                 0.634316                1.573247    189  \n",
       "190                 0.636157                1.571151    190  \n",
       "191                 0.639801                1.570591    191  \n",
       "192                 0.635348                1.560840    192  \n",
       "193                 0.635511                1.564198    193  \n",
       "194                 0.632606                1.565912    194  \n",
       "195                 0.631301                1.570389    195  \n",
       "196                 0.637733                1.555424    196  \n",
       "197                 0.635495                1.555093    197  \n",
       "198                 0.638176                1.556294    198  \n",
       "199                 0.634364                1.557045    199  \n",
       "200                 0.633473                1.560934    200  \n",
       "201                 0.635715                1.552014    201  \n",
       "202                 0.632584                1.554250    202  \n",
       "203                 0.632401                1.560313    203  \n",
       "204                 0.633139                1.556000    204  \n",
       "205                 0.630754                1.560209    205  \n",
       "206                 0.631948                1.577233    206  \n",
       "207                 0.633328                1.553422    207  \n",
       "208                 0.629242                1.560792    208  \n",
       "209                 0.633136                1.553820    209  \n",
       "210                 0.635269                1.555452    210  \n",
       "211                 0.628806                1.559012    211  \n",
       "\n",
       "[212 rows x 7 columns]"
      ]
     },
     "execution_count": 50,
     "metadata": {},
     "output_type": "execute_result"
    }
   ],
   "source": [
    "hist"
   ]
  },
  {
   "cell_type": "markdown",
   "metadata": {},
   "source": [
    "Now we are getting reasonable results.  Using a smaller learning rate, with an early stop callback."
   ]
  },
  {
   "cell_type": "markdown",
   "metadata": {},
   "source": [
    "# Evauate model\n",
    "Note by including the data with missing values and adding in average amounts increased the error."
   ]
  },
  {
   "cell_type": "code",
   "execution_count": 51,
   "metadata": {},
   "outputs": [
    {
     "name": "stdout",
     "output_type": "stream",
     "text": [
      "Testing set Mean Abs Error:  0.61 predicted water level high in feet\n"
     ]
    }
   ],
   "source": [
    "loss, mae, mse = model.evaluate(normed_test_ds, test_labels, verbose=0)\n",
    "\n",
    "print(\"Testing set Mean Abs Error: {:5.2f} predicted water level high in feet\".format(mae))"
   ]
  },
  {
   "cell_type": "markdown",
   "metadata": {},
   "source": [
    "# Make predictions"
   ]
  },
  {
   "cell_type": "code",
   "execution_count": 52,
   "metadata": {},
   "outputs": [
    {
     "data": {
      "image/png": "[encoded data removed]",
      "text/plain": [
       "<Figure size 432x288 with 1 Axes>"
      ]
     },
     "metadata": {
      "needs_background": "light"
     },
     "output_type": "display_data"
    }
   ],
   "source": [
    "test_predictions = model.predict(normed_test_ds).flatten()\n",
    "\n",
    "plt.scatter(test_labels, test_predictions)\n",
    "plt.xlabel('True Values [water level high]')\n",
    "plt.ylabel('Predictions [water level high]')\n",
    "plt.axis('equal')\n",
    "plt.axis('square')\n",
    "plt.xlim([0,plt.xlim()[1]])\n",
    "plt.ylim([0,plt.ylim()[1]])\n",
    "_ = plt.plot([-100, 100], [-100, 100])"
   ]
  },
  {
   "cell_type": "markdown",
   "metadata": {},
   "source": [
    "Look at error distribution"
   ]
  },
  {
   "cell_type": "code",
   "execution_count": 53,
   "metadata": {},
   "outputs": [
    {
     "data": {
      "image/png": "[encoded data removed]",
      "text/plain": [
       "<Figure size 432x288 with 1 Axes>"
      ]
     },
     "metadata": {
      "needs_background": "light"
     },
     "output_type": "display_data"
    }
   ],
   "source": [
    "error = test_predictions - test_labels\n",
    "plt.hist(error, bins = 25)\n",
    "plt.xlabel(\"Prediction Error [MPG]\")\n",
    "_ = plt.ylabel(\"Count\")"
   ]
  },
  {
   "cell_type": "markdown",
   "metadata": {},
   "source": [
    "Adding back the license since this was taken largerly from his example code."
   ]
  },
  {
   "cell_type": "code",
   "execution_count": 61,
   "metadata": {},
   "outputs": [],
   "source": [
    "#@title MIT License\n",
    "#\n",
    "# Copyright (c) 2017 François Chollet\n",
    "#\n",
    "# Permission is hereby granted, free of charge, to any person obtaining a\n",
    "# copy of this software and associated documentation files (the \"Software\"),\n",
    "# to deal in the Software without restriction, including without limitation\n",
    "# the rights to use, copy, modify, merge, publish, distribute, sublicense,\n",
    "# and/or sell copies of the Software, and to permit persons to whom the\n",
    "# Software is furnished to do so, subject to the following conditions:\n",
    "#\n",
    "# The above copyright notice and this permission notice shall be included in\n",
    "# all copies or substantial portions of the Software.\n",
    "#\n",
    "# THE SOFTWARE IS PROVIDED \"AS IS\", WITHOUT WARRANTY OF ANY KIND, EXPRESS OR\n",
    "# IMPLIED, INCLUDING BUT NOT LIMITED TO THE WARRANTIES OF MERCHANTABILITY,\n",
    "# FITNESS FOR A PARTICULAR PURPOSE AND NONINFRINGEMENT. IN NO EVENT SHALL\n",
    "# THE AUTHORS OR COPYRIGHT HOLDERS BE LIABLE FOR ANY CLAIM, DAMAGES OR OTHER\n",
    "# LIABILITY, WHETHER IN AN ACTION OF CONTRACT, TORT OR OTHERWISE, ARISING\n",
    "# FROM, OUT OF OR IN CONNECTION WITH THE SOFTWARE OR THE USE OR OTHER\n",
    "# DEALINGS IN THE SOFTWARE."
   ]
  },
  {
   "cell_type": "code",
   "execution_count": null,
   "metadata": {},
   "outputs": [],
   "source": []
  }
 ],
 "metadata": {
  "kernelspec": {
   "display_name": "Python 3",
   "language": "python",
   "name": "python3"
  },
  "language_info": {
   "codemirror_mode": {
    "name": "ipython",
    "version": 3
   },
   "file_extension": ".py",
   "mimetype": "text/x-python",
   "name": "python",
   "nbconvert_exporter": "python",
   "pygments_lexer": "ipython3",
   "version": "3.11.3"
  }
 },
 "nbformat": 4,
 "nbformat_minor": 2
}
